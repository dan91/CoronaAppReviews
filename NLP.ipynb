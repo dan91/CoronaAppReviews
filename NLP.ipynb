{
 "cells": [
  {
   "cell_type": "markdown",
   "metadata": {},
   "source": [
    "# Natural Language Processing of Reviews\n",
    "\n",
    "In this notebook we will have a look at the most common words, bigrams and trigrams."
   ]
  },
  {
   "cell_type": "markdown",
   "metadata": {},
   "source": [
    "## Load the reviews"
   ]
  },
  {
   "cell_type": "code",
   "execution_count": 18,
   "metadata": {},
   "outputs": [],
   "source": [
    "import pandas as pd\n",
    "\n",
    "reviews = pd.read_pickle('data/combined.pkl')"
   ]
  },
  {
   "cell_type": "code",
   "execution_count": 3,
   "metadata": {},
   "outputs": [
    {
     "data": {
      "application/vnd.jupyter.widget-view+json": {
       "model_id": "f2e3b4cadc584c8a9960a7e1f798610f",
       "version_major": 2,
       "version_minor": 0
      },
      "text/plain": [
       "QgridWidget(grid_options={'fullWidthRows': True, 'syncColumnCellResize': True, 'forceFitColumns': True, 'defau…"
      ]
     },
     "metadata": {},
     "output_type": "display_data"
    }
   ],
   "source": [
    "#This will give us a pretty interactive data table\n",
    "# NOTE: This only works when executed on Jupyter server, not on Github\n",
    "import qgrid\n",
    "qgrid_widget = qgrid.show_grid(reviews, show_toolbar=True)\n",
    "qgrid_widget"
   ]
  },
  {
   "cell_type": "markdown",
   "metadata": {},
   "source": [
    "## Most common words"
   ]
  },
  {
   "cell_type": "code",
   "execution_count": 5,
   "metadata": {},
   "outputs": [],
   "source": [
    "import nltk\n",
    "from collections import Counter"
   ]
  },
  {
   "cell_type": "code",
   "execution_count": 17,
   "metadata": {},
   "outputs": [
    {
     "data": {
      "text/plain": [
       "[('app', 8089),\n",
       " ('daten', 4157),\n",
       " ('leider', 4017),\n",
       " ('samsung', 3384),\n",
       " ('ich', 3189),\n",
       " ('tage', 2947),\n",
       " ('funktioniert', 2500),\n",
       " ('...', 2464),\n",
       " ('gern', 2321),\n",
       " ('googl', 2250)]"
      ]
     },
     "execution_count": 17,
     "metadata": {},
     "output_type": "execute_result"
    }
   ],
   "source": [
    "stemmer = nltk.stem.PorterStemmer()\n",
    "t = reviews['content'].str.cat(sep=' ')\n",
    "tokens = nltk.word_tokenize(t)\n",
    "stopwords = nltk.corpus.stopwords.words('german')\n",
    "stemmed_tokens = [stemmer.stem(t) for t in tokens if t not in stopwords and len(t) > 2]\n",
    "Counter(stemmed_tokens).most_common(10)"
   ]
  },
  {
   "cell_type": "markdown",
   "metadata": {},
   "source": [
    "Findings are more insightful for bigrams and trigrams, so we skip the analysis of words for now."
   ]
  },
  {
   "cell_type": "markdown",
   "metadata": {},
   "source": [
    "## Most common bigrams (2 words occuring together)"
   ]
  },
  {
   "cell_type": "code",
   "execution_count": 13,
   "metadata": {},
   "outputs": [
    {
     "data": {
      "text/plain": [
       "[(1, (('googl', 'fit'), 1243)),\n",
       " (2, (('gespendeten', 'tage'), 899)),\n",
       " (3, (('samsung', 'health'), 680)),\n",
       " (4, (('gute', 'ide'), 608)),\n",
       " (5, (('die', 'app'), 606)),\n",
       " (6, (('gespendet', 'tage'), 496)),\n",
       " (7, (('gern', 'helfen'), 409)),\n",
       " (8, (('leider', 'samsung'), 391)),\n",
       " (9, (('samsung', 'gear'), 389)),\n",
       " (10, (('appl', 'health'), 388)),\n",
       " (11, (('hätte', 'gern'), 384)),\n",
       " (12, (('ich', 'gern'), 376)),\n",
       " (13, (('seit', 'tagen'), 368)),\n",
       " (14, (('anzahl', 'gespendeten'), 358)),\n",
       " (15, (('ich', 'app'), 357)),\n",
       " (16, (('die', 'ide'), 355)),\n",
       " (17, (('fehler', '403'), 351)),\n",
       " (18, (('würde', 'gern'), 331)),\n",
       " (19, (('appl', 'watch'), 285)),\n",
       " (20, (('galaxi', 'watch'), 268)),\n",
       " (21, (('samsung', 'smartwatch'), 265)),\n",
       " (22, (('tage', 'angezeigt'), 264)),\n",
       " (23, (('ide', 'gut'), 262)),\n",
       " (24, (('samsung', 'galaxi'), 262)),\n",
       " (25, (('ich', 'hoff'), 255)),\n",
       " (26, (('app', 'funktioniert'), 246)),\n",
       " (27, (('app', 'seit'), 242)),\n",
       " (28, (('anzeig', 'gespendeten'), 240)),\n",
       " (29, (('daten', 'übertragen'), 235)),\n",
       " (30, (('anmeldung', 'googl'), 231)),\n",
       " (31, (('tage', 'gespendet'), 220)),\n",
       " (32, (('daten', 'spenden'), 213)),\n",
       " (33, (('huawei', 'health'), 208)),\n",
       " (34, (('ich', 'find'), 204)),\n",
       " (35, (('funktioniert', 'app'), 203)),\n",
       " (36, (('daten', 'gespendet'), 201)),\n",
       " (37, (('samsung', 'watch'), 201)),\n",
       " (38, (('health', 'app'), 199)),\n",
       " (39, (('app', 'nutzen'), 193)),\n",
       " (40, (('funktioniert', 'leider'), 186)),\n",
       " (41, (('habe', 'app'), 185)),\n",
       " (42, (('gern', 'daten'), 180)),\n",
       " (43, (('gern', 'geholfen'), 172)),\n",
       " (44, (('...', 'ich'), 162)),\n",
       " (45, (('app', 'leider'), 162)),\n",
       " (46, (('daten', 'gesendet'), 160)),\n",
       " (47, (('gute', 'sach'), 157)),\n",
       " (48, (('immer', 'tage'), 156)),\n",
       " (49, (('app', 'installiert'), 153)),\n",
       " (50, (('toll', 'ide'), 151))]"
      ]
     },
     "execution_count": 13,
     "metadata": {},
     "output_type": "execute_result"
    }
   ],
   "source": [
    "bigrams = nltk.ngrams(stemmed_tokens, 2)\n",
    "[(c, t) for c, t in enumerate(Counter(bigrams).most_common(50), start = 1)]"
   ]
  },
  {
   "cell_type": "markdown",
   "metadata": {},
   "source": [
    "## Findings\n",
    "\n",
    "- #1, #3, #9: mentioning specific devices -> comparison of sentiments and analysis of words appearing together with device name to see which devices perform good\n",
    "- #2: could refer to a specific bug\n",
    "- #4, #7: positive attitude towards app, like to help"
   ]
  },
  {
   "cell_type": "markdown",
   "metadata": {},
   "source": [
    "## Most common trigrams (3 words occuring together)"
   ]
  },
  {
   "cell_type": "code",
   "execution_count": 15,
   "metadata": {},
   "outputs": [
    {
     "data": {
      "text/plain": [
       "[(1, (('anzahl', 'gespendeten', 'tage'), 290)),\n",
       " (2, (('anzeig', 'gespendeten', 'tage'), 206)),\n",
       " (3, (('hätte', 'gern', 'geholfen'), 160)),\n",
       " (4, (('samsung', 'galaxi', 'watch'), 153)),\n",
       " (5, (('würde', 'gern', 'helfen'), 143)),\n",
       " (6, (('gespendeten', 'tage', 'angezeigt'), 131)),\n",
       " (7, (('ich', 'gern', 'helfen'), 117)),\n",
       " (8, (('anmeldung', 'googl', 'fit'), 111)),\n",
       " (9, (('die', 'ide', 'gut'), 106)),\n",
       " (10, (('schade', 'hätte', 'gern'), 104)),\n",
       " (11, (('anzahl', 'gespendet', 'tage'), 101)),\n",
       " (12, (('gespendeten', 'tage', 'immer'), 100)),\n",
       " (13, (('fehler', '403', 'rate_limit_exceed'), 100)),\n",
       " (14, (('googl', 'fit', 'möglich'), 95)),\n",
       " (15, (('ich', 'hätte', 'gern'), 88)),\n",
       " (16, (('verbindung', 'googl', 'fit'), 87)),\n",
       " (17, (('gute', 'ide', 'leider'), 83)),\n",
       " (18, (('googl', 'fit', 'verbinden'), 83)),\n",
       " (19, (('app', 'seit', 'tagen'), 82)),\n",
       " (20, (('ich', 'find', 'ide'), 78)),\n",
       " (21, (('immer', 'gespendet', 'tage'), 78)),\n",
       " (22, (('hätte', 'gern', 'mitgemacht'), 78)),\n",
       " (23, (('rate', 'limit', 'exceed'), 78)),\n",
       " (24, (('die', 'anzahl', 'gespendeten'), 75)),\n",
       " (25, (('googl', 'fit', 'funktioniert'), 75)),\n",
       " (26, (('leider', 'samsung', 'health'), 71)),\n",
       " (27, (('samsung', 'gear', 'fit'), 70)),\n",
       " (28, (('die', 'ide', 'find'), 69)),\n",
       " (29, (('gern', 'helfen', 'leider'), 68)),\n",
       " (30, (('googl', 'fit', 'anmelden'), 66)),\n",
       " (31, (('immer', 'tage', 'gespendet'), 65)),\n",
       " (32, (('die', 'app', 'funktioniert'), 64)),\n",
       " (33, (('daten', 'gesendet', 'wurden'), 63)),\n",
       " (34, (('403', 'rate', 'limit'), 62)),\n",
       " (35, (('anzeig', 'gespendet', 'tage'), 61)),\n",
       " (36, (('gespendeten', 'tage', 'bleibt'), 61)),\n",
       " (37, (('leider', 'funktioniert', 'app'), 59)),\n",
       " (38, (('ich', 'hoff', 'daten'), 58)),\n",
       " (39, (('app', 'gern', 'nutzen'), 57)),\n",
       " (40, (('leider', 'samsung', 'smartwatch'), 57)),\n",
       " (41, (('habe', 'app', 'seit'), 55)),\n",
       " (42, (('ich', 'app', 'seit'), 55)),\n",
       " (43, (('daten', 'verfügung', 'stellen'), 54)),\n",
       " (44, (('samsung', 'smart', 'watch'), 54)),\n",
       " (45, (('tage', 'daten', 'gespendet'), 53)),\n",
       " (46, (('leider', 'samsung', 'gear'), 53)),\n",
       " (47, (('gern', 'daten', 'spenden'), 51)),\n",
       " (48, (('würde', 'gern', 'mitmachen'), 51)),\n",
       " (49, (('ihrer', 'gespendeten', 'tage'), 50)),\n",
       " (50, (('ich', 'gern', 'mitmachen'), 49))]"
      ]
     },
     "execution_count": 15,
     "metadata": {},
     "output_type": "execute_result"
    }
   ],
   "source": [
    "trigrams = nltk.ngrams(stemmed_tokens, 3)\n",
    "[(c, t) for c, t in enumerate(Counter(trigrams).most_common(50), start = 1)]"
   ]
  },
  {
   "cell_type": "markdown",
   "metadata": {},
   "source": [
    "## Findings\n",
    "\n",
    "- #1, #2: could again point to a bug\n",
    "- #3, #5, #10: users have/had the intention to share data, but were not successful"
   ]
  },
  {
   "cell_type": "markdown",
   "metadata": {},
   "source": [
    "## Todo:\n",
    "- compare unigrams / bigrams / trigrams between both stores\n",
    "- sentiment analysis (positive / negative), compare stores"
   ]
  }
 ],
 "metadata": {
  "kernelspec": {
   "display_name": "Python 3",
   "language": "python",
   "name": "python3"
  },
  "language_info": {
   "codemirror_mode": {
    "name": "ipython",
    "version": 3
   },
   "file_extension": ".py",
   "mimetype": "text/x-python",
   "name": "python",
   "nbconvert_exporter": "python",
   "pygments_lexer": "ipython3",
   "version": "3.7.4"
  }
 },
 "nbformat": 4,
 "nbformat_minor": 2
}
