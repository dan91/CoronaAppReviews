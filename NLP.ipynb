{
 "cells": [
  {
   "cell_type": "markdown",
   "metadata": {},
   "source": [
    "# Natural Language Processing of Reviews\n",
    "\n",
    "In this notebook we will display some basic NLP characteristics of the App Store reviews (todo: Google Play reviews)"
   ]
  },
  {
   "cell_type": "markdown",
   "metadata": {},
   "source": [
    "## Load the data from CSV"
   ]
  },
  {
   "cell_type": "code",
   "execution_count": 15,
   "metadata": {},
   "outputs": [],
   "source": [
    "import pandas as pd\n",
    "import json\n",
    "\n",
    "# need to strip out lists from some columns so we can parse it to a DataFrame\n",
    "with open('data/appStoreReviews.json') as json_file:\n",
    "    data = json.load(json_file)\n",
    "    reviews = []\n",
    "    for r in data:\n",
    "        for r2 in r:\n",
    "            # while we're at it, also remove other unnecessary fields\n",
    "            del r2['updated_parsed'], r2['link'], r2['guidislink'], r2['title_detail'], r2['content'], r2['im_contenttype'], r2['authors'], r2['author_detail'], r2['href'], r2['links']\n",
    "            reviews.append(r2)\n",
    "\n",
    "df = pd.DataFrame(reviews)\n",
    "#convert field 'updated' to datetime \n",
    "df['updated'] =  pd.to_datetime(df['updated'])"
   ]
  },
  {
   "cell_type": "code",
   "execution_count": 21,
   "metadata": {},
   "outputs": [
    {
     "data": {
      "application/vnd.jupyter.widget-view+json": {
       "model_id": "375e33db5b894248ac58bae550bea6a0",
       "version_major": 2,
       "version_minor": 0
      },
      "text/plain": [
       "QgridWidget(grid_options={'fullWidthRows': True, 'syncColumnCellResize': True, 'forceFitColumns': True, 'defau…"
      ]
     },
     "metadata": {},
     "output_type": "display_data"
    }
   ],
   "source": [
    "#This will give us a pretty interactive data table\n",
    "import qgrid\n",
    "qgrid_widget = qgrid.show_grid(df, show_toolbar=True)\n",
    "qgrid_widget"
   ]
  },
  {
   "cell_type": "markdown",
   "metadata": {},
   "source": [
    "## Most common words"
   ]
  },
  {
   "cell_type": "code",
   "execution_count": 17,
   "metadata": {},
   "outputs": [],
   "source": [
    "import nltk\n",
    "from collections import Counter"
   ]
  },
  {
   "cell_type": "code",
   "execution_count": 18,
   "metadata": {},
   "outputs": [
    {
     "data": {
      "text/plain": [
       "[('app', 433),\n",
       " ('daten', 298),\n",
       " ('tage', 253),\n",
       " ('ich', 151),\n",
       " ('funktioniert', 103),\n",
       " ('die', 102),\n",
       " ('...', 100),\n",
       " ('gespendeten', 99),\n",
       " ('updat', 98),\n",
       " ('gespendet', 82),\n",
       " ('rki', 80),\n",
       " ('seit', 78),\n",
       " ('leider', 77),\n",
       " ('gern', 72),\n",
       " ('angezeigt', 70),\n",
       " ('ide', 69),\n",
       " ('tagen', 68),\n",
       " ('immer', 64),\n",
       " ('anzeig', 64),\n",
       " ('health', 63),\n",
       " ('appl', 60),\n",
       " ('steht', 57),\n",
       " ('mal', 52),\n",
       " ('null', 52),\n",
       " ('anzahl', 51),\n",
       " ('da', 50),\n",
       " ('helfen', 48),\n",
       " ('wurd', 48),\n",
       " ('hoff', 46),\n",
       " ('schon', 43),\n",
       " ('nach', 43),\n",
       " ('mehr', 43),\n",
       " ('zähler', 42),\n",
       " ('schade', 42),\n",
       " ('gute', 42),\n",
       " ('installiert', 39),\n",
       " ('geht', 38),\n",
       " ('gibt', 38),\n",
       " ('datenspend', 37),\n",
       " ('wäre', 34),\n",
       " ('bleibt', 34),\n",
       " ('tag', 33),\n",
       " ('find', 33),\n",
       " ('übertragen', 33),\n",
       " ('erst', 32),\n",
       " ('wenn', 32),\n",
       " ('heut', 32),\n",
       " ('wurden', 32),\n",
       " ('zeigt', 31),\n",
       " ('iphon', 31),\n",
       " ('viel', 29),\n",
       " ('watch', 29),\n",
       " ('habe', 27),\n",
       " ('problem', 27),\n",
       " ('einfach', 27),\n",
       " ('gut', 27),\n",
       " ('der', 26),\n",
       " ('stehen', 26),\n",
       " ('dank', 26),\n",
       " ('überhaupt', 26),\n",
       " ('datenschutz', 25),\n",
       " ('allerd', 24),\n",
       " ('bereit', 24),\n",
       " ('aber', 24),\n",
       " ('bei', 23),\n",
       " ('und', 23),\n",
       " ('gelöscht', 23),\n",
       " ('gesendet', 23),\n",
       " ('weiß', 22),\n",
       " ('wirklich', 22),\n",
       " ('feedback', 22),\n",
       " ('wohl', 22),\n",
       " ('bitt', 22),\n",
       " ('nutzen', 21),\n",
       " ('hilft', 21),\n",
       " ('löschen', 21),\n",
       " ('funktionieren', 21),\n",
       " ('io', 21),\n",
       " ('sehen', 20),\n",
       " ('daher', 20),\n",
       " ('instal', 20),\n",
       " ('auch', 19),\n",
       " ('toll', 19),\n",
       " ('wie', 19),\n",
       " ('scheint', 19),\n",
       " ('ganz', 19),\n",
       " ('super', 18),\n",
       " ('übermittelt', 18),\n",
       " ('fehler', 18),\n",
       " ('macht', 18),\n",
       " ('zeit', 17),\n",
       " ('also', 17),\n",
       " ('hätte', 17),\n",
       " ('läuft', 17),\n",
       " ('dabei', 17),\n",
       " ('vertrauen', 17),\n",
       " ('besser', 17),\n",
       " ('endlich', 17),\n",
       " ('deinstalliert', 17),\n",
       " ('richtig', 16)]"
      ]
     },
     "execution_count": 18,
     "metadata": {},
     "output_type": "execute_result"
    }
   ],
   "source": [
    "stemmer = nltk.stem.PorterStemmer()\n",
    "t = df['summary'].str.cat(sep=' ')\n",
    "tokens = nltk.word_tokenize(t)\n",
    "stopwords = nltk.corpus.stopwords.words('german')\n",
    "stemmed_tokens = [stemmer.stem(t) for t in tokens if t not in stopwords and len(t) > 2]\n",
    "Counter(stemmed_tokens).most_common(100)"
   ]
  },
  {
   "cell_type": "markdown",
   "metadata": {},
   "source": [
    "## Most common bigrams (2 words occuring together)"
   ]
  },
  {
   "cell_type": "code",
   "execution_count": 19,
   "metadata": {},
   "outputs": [
    {
     "data": {
      "text/plain": [
       "[(('gespendeten', 'tage'), 85),\n",
       " (('gespendet', 'tage'), 39),\n",
       " (('die', 'app'), 35),\n",
       " (('appl', 'health'), 33),\n",
       " (('tage', 'angezeigt'), 29),\n",
       " (('anzahl', 'gespendeten'), 27),\n",
       " (('gute', 'ide'), 27),\n",
       " (('ich', 'app'), 25),\n",
       " (('anzeig', 'gespendeten'), 24),\n",
       " (('seit', 'tagen'), 19),\n",
       " (('appl', 'watch'), 18),\n",
       " (('daten', 'gespendet'), 17),\n",
       " (('ich', 'hoff'), 17),\n",
       " (('tage', 'gespendet'), 16),\n",
       " (('health', 'app'), 16),\n",
       " (('app', 'funktioniert'), 14),\n",
       " (('ich', 'find'), 14),\n",
       " (('daten', 'gesendet'), 14),\n",
       " (('letzten', 'updat'), 13),\n",
       " (('daten', 'übertragen'), 12),\n",
       " (('hoff', 'daten'), 11),\n",
       " (('app', 'seit'), 11),\n",
       " (('die', 'anzeig'), 11),\n",
       " (('app', 'deinstalliert'), 11),\n",
       " (('funktioniert', 'app'), 11),\n",
       " (('scheint', 'funktionieren'), 10),\n",
       " (('...', 'ich'), 10),\n",
       " (('ich', 'gern'), 10),\n",
       " (('app', 'installiert'), 9),\n",
       " (('habe', 'app'), 9),\n",
       " (('daten', 'helfen'), 9),\n",
       " (('daten', 'übermittelt'), 9),\n",
       " (('die', 'anzahl'), 9),\n",
       " (('app', 'gelöscht'), 9),\n",
       " (('find', 'ide'), 9),\n",
       " (('updat', 'funktioniert'), 9),\n",
       " (('gespendeten', 'daten'), 8),\n",
       " (('steht', 'seit'), 8),\n",
       " (('gern', 'bereit'), 8),\n",
       " (('tage', 'daten'), 8),\n",
       " (('daten', 'spenden'), 8),\n",
       " (('anzahl', 'gespendet'), 8),\n",
       " (('der', 'zähler'), 7),\n",
       " (('ide', 'gut'), 7),\n",
       " (('toll', 'ide'), 7),\n",
       " (('gern', 'daten'), 7),\n",
       " (('nach', 'updat'), 7),\n",
       " (('korrekt', 'angezeigt'), 7),\n",
       " (('anzeig', 'gespendet'), 7),\n",
       " (('immer', 'tage'), 7)]"
      ]
     },
     "execution_count": 19,
     "metadata": {},
     "output_type": "execute_result"
    }
   ],
   "source": [
    "bigrams = nltk.ngrams(stemmed_tokens, 2)\n",
    "Counter(bigrams).most_common(50)"
   ]
  },
  {
   "cell_type": "markdown",
   "metadata": {},
   "source": [
    "## Most common trigrams (3 words occuring together)"
   ]
  },
  {
   "cell_type": "code",
   "execution_count": 8,
   "metadata": {},
   "outputs": [
    {
     "data": {
      "text/plain": [
       "[(('anzeig', 'gespendeten', 'tage'), 23),\n",
       " (('anzahl', 'gespendeten', 'tage'), 20),\n",
       " (('gespendeten', 'tage', 'angezeigt'), 16),\n",
       " (('anzeig', 'gespendet', 'tage'), 8),\n",
       " (('anzahl', 'gespendet', 'tage'), 8),\n",
       " (('tage', 'daten', 'gespendet'), 7),\n",
       " (('ich', 'find', 'ide'), 7),\n",
       " (('ich', 'hoff', 'daten'), 7),\n",
       " (('gespendeten', 'tage', 'immer'), 7),\n",
       " (('daten', 'gesendet', 'wurden'), 6),\n",
       " (('seit', 'letzten', 'updat'), 6),\n",
       " (('hoff', 'daten', 'helfen'), 6),\n",
       " (('funktioniert', 'anzeig', 'gespendeten'), 6),\n",
       " (('immer', 'gespendet', 'tage'), 6),\n",
       " (('appl', 'health', 'app'), 5),\n",
       " (('tage', 'korrekt', 'angezeigt'), 5),\n",
       " (('anzahl', 'ihrer', 'gespendeten'), 5),\n",
       " (('ihrer', 'gespendeten', 'tage'), 5),\n",
       " (('die', 'anzahl', 'gespendeten'), 5),\n",
       " (('ich', 'app', 'seit'), 5),\n",
       " (('seit', 'paar', 'tagen'), 4),\n",
       " (('seit', 'tagen', 'installiert'), 4),\n",
       " (('die', 'app', 'einfach'), 4),\n",
       " (('die', 'app', 'funktioniert'), 4),\n",
       " (('ich', 'gern', 'bereit'), 4),\n",
       " (('steht', 'seit', 'tagen'), 4),\n",
       " (('daten', 'gespendet', 'wurden'), 4),\n",
       " (('ein', 'gute', 'ide'), 4),\n",
       " (('gespendeten', 'tage', 'korrekt'), 4),\n",
       " (('ich', 'helf', 'gern'), 4),\n",
       " (('app', 'seit', 'tagen'), 4),\n",
       " (('die', 'ide', 'find'), 4),\n",
       " (('habe', 'app', 'seit'), 4),\n",
       " (('daten', 'übermittelt', 'leider'), 3),\n",
       " (('tage', 'angezeigt', 'ich'), 3),\n",
       " (('daten', 'verfügung', 'stellen'), 3),\n",
       " (('da', 'geht', 'gar'), 3),\n",
       " (('daten', 'übertragen', 'wurden'), 3),\n",
       " (('gern', 'bereit', 'helfen'), 3),\n",
       " (('find', 'ide', 'gut'), 3),\n",
       " (('tagen', 'immer', 'gespendet'), 3),\n",
       " (('gern', 'bereit', 'daten'), 3),\n",
       " (('...', 'ich', 'hoff'), 3),\n",
       " (('der', 'zähler', 'steht'), 3),\n",
       " (('app', 'gespendet', 'tage'), 3),\n",
       " (('die', 'anzeig', 'gespendeten'), 3),\n",
       " (('daten', 'appl', 'health'), 3),\n",
       " (('die', 'ide', 'gut'), 3),\n",
       " (('immer', 'tage', 'gespendet'), 3),\n",
       " (('gespendet', 'tage', 'immer'), 3)]"
      ]
     },
     "execution_count": 8,
     "metadata": {},
     "output_type": "execute_result"
    }
   ],
   "source": [
    "trigrams = nltk.ngrams(stemmed_tokens, 3)\n",
    "Counter(trigrams).most_common(50)"
   ]
  }
 ],
 "metadata": {
  "kernelspec": {
   "display_name": "Python 3",
   "language": "python",
   "name": "python3"
  },
  "language_info": {
   "codemirror_mode": {
    "name": "ipython",
    "version": 3
   },
   "file_extension": ".py",
   "mimetype": "text/x-python",
   "name": "python",
   "nbconvert_exporter": "python",
   "pygments_lexer": "ipython3",
   "version": "3.7.4"
  }
 },
 "nbformat": 4,
 "nbformat_minor": 2
}
